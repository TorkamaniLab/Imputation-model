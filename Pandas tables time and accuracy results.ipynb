{
 "cells": [
  {
   "cell_type": "code",
   "execution_count": 137,
   "metadata": {},
   "outputs": [],
   "source": [
    "import pandas as pd\n",
    "import numpy as np\n",
    "import matplotlib.pyplot as plt"
   ]
  },
  {
   "cell_type": "code",
   "execution_count": 138,
   "metadata": {
    "scrolled": true
   },
   "outputs": [
    {
     "data": {
      "text/html": [
       "<div>\n",
       "<style scoped>\n",
       "    .dataframe tbody tr th:only-of-type {\n",
       "        vertical-align: middle;\n",
       "    }\n",
       "\n",
       "    .dataframe tbody tr th {\n",
       "        vertical-align: top;\n",
       "    }\n",
       "\n",
       "    .dataframe thead th {\n",
       "        text-align: right;\n",
       "    }\n",
       "</style>\n",
       "<table border=\"1\" class=\"dataframe\">\n",
       "  <thead>\n",
       "    <tr style=\"text-align: right;\">\n",
       "      <th></th>\n",
       "      <th>test_1</th>\n",
       "      <th>test_2</th>\n",
       "      <th>test_3</th>\n",
       "      <th>test_4</th>\n",
       "      <th>test_5</th>\n",
       "      <th>test_6</th>\n",
       "      <th>test_7</th>\n",
       "      <th>test_8</th>\n",
       "      <th>test_9</th>\n",
       "      <th>test_10</th>\n",
       "      <th>test_11</th>\n",
       "      <th>test_12</th>\n",
       "    </tr>\n",
       "  </thead>\n",
       "  <tbody>\n",
       "    <tr>\n",
       "      <th>0</th>\n",
       "      <td>0.295177</td>\n",
       "      <td>0.312370</td>\n",
       "      <td>0.185</td>\n",
       "      <td>0.185</td>\n",
       "      <td>0.225038</td>\n",
       "      <td>0.139035</td>\n",
       "      <td>0.248551</td>\n",
       "      <td>0.294</td>\n",
       "      <td>0.215</td>\n",
       "      <td>0.270</td>\n",
       "      <td>0.298</td>\n",
       "      <td>0.323</td>\n",
       "    </tr>\n",
       "    <tr>\n",
       "      <th>1</th>\n",
       "      <td>0.295177</td>\n",
       "      <td>0.330065</td>\n",
       "      <td>0.191</td>\n",
       "      <td>0.191</td>\n",
       "      <td>0.233291</td>\n",
       "      <td>0.209810</td>\n",
       "      <td>0.268768</td>\n",
       "      <td>0.294</td>\n",
       "      <td>0.215</td>\n",
       "      <td>0.303</td>\n",
       "      <td>0.298</td>\n",
       "      <td>0.323</td>\n",
       "    </tr>\n",
       "    <tr>\n",
       "      <th>2</th>\n",
       "      <td>0.295177</td>\n",
       "      <td>0.330065</td>\n",
       "      <td>0.303</td>\n",
       "      <td>0.303</td>\n",
       "      <td>0.233291</td>\n",
       "      <td>0.209810</td>\n",
       "      <td>0.268768</td>\n",
       "      <td>0.307</td>\n",
       "      <td>0.288</td>\n",
       "      <td>0.303</td>\n",
       "      <td>0.298</td>\n",
       "      <td>0.323</td>\n",
       "    </tr>\n",
       "    <tr>\n",
       "      <th>3</th>\n",
       "      <td>NaN</td>\n",
       "      <td>0.330065</td>\n",
       "      <td>0.303</td>\n",
       "      <td>0.303</td>\n",
       "      <td>0.233291</td>\n",
       "      <td>0.209810</td>\n",
       "      <td>0.268768</td>\n",
       "      <td>0.309</td>\n",
       "      <td>0.288</td>\n",
       "      <td>0.303</td>\n",
       "      <td>0.298</td>\n",
       "      <td>0.323</td>\n",
       "    </tr>\n",
       "    <tr>\n",
       "      <th>4</th>\n",
       "      <td>NaN</td>\n",
       "      <td>0.330065</td>\n",
       "      <td>0.303</td>\n",
       "      <td>0.303</td>\n",
       "      <td>0.233291</td>\n",
       "      <td>NaN</td>\n",
       "      <td>0.287745</td>\n",
       "      <td>0.336</td>\n",
       "      <td>0.288</td>\n",
       "      <td>0.319</td>\n",
       "      <td>0.298</td>\n",
       "      <td>NaN</td>\n",
       "    </tr>\n",
       "    <tr>\n",
       "      <th>5</th>\n",
       "      <td>NaN</td>\n",
       "      <td>0.330065</td>\n",
       "      <td>0.303</td>\n",
       "      <td>0.303</td>\n",
       "      <td>0.261494</td>\n",
       "      <td>NaN</td>\n",
       "      <td>0.290005</td>\n",
       "      <td>0.336</td>\n",
       "      <td>0.288</td>\n",
       "      <td>0.319</td>\n",
       "      <td>0.298</td>\n",
       "      <td>NaN</td>\n",
       "    </tr>\n",
       "  </tbody>\n",
       "</table>\n",
       "</div>"
      ],
      "text/plain": [
       "     test_1    test_2  test_3  test_4    test_5    test_6    test_7  test_8  \\\n",
       "0  0.295177  0.312370   0.185   0.185  0.225038  0.139035  0.248551   0.294   \n",
       "1  0.295177  0.330065   0.191   0.191  0.233291  0.209810  0.268768   0.294   \n",
       "2  0.295177  0.330065   0.303   0.303  0.233291  0.209810  0.268768   0.307   \n",
       "3       NaN  0.330065   0.303   0.303  0.233291  0.209810  0.268768   0.309   \n",
       "4       NaN  0.330065   0.303   0.303  0.233291       NaN  0.287745   0.336   \n",
       "5       NaN  0.330065   0.303   0.303  0.261494       NaN  0.290005   0.336   \n",
       "\n",
       "   test_9  test_10  test_11  test_12  \n",
       "0   0.215    0.270    0.298    0.323  \n",
       "1   0.215    0.303    0.298    0.323  \n",
       "2   0.288    0.303    0.298    0.323  \n",
       "3   0.288    0.303    0.298    0.323  \n",
       "4   0.288    0.319    0.298      NaN  \n",
       "5   0.288    0.319    0.298      NaN  "
      ]
     },
     "execution_count": 138,
     "metadata": {},
     "output_type": "execute_result"
    }
   ],
   "source": [
    "#Accuracy file\n",
    "my_input_file_name_2=\"/mnt/stsi/stsi5/raqueld/imputator/optuna_phased_pipeline/accuracies.txt\"\n",
    "my_data_frame2= pd.read_csv(my_input_file_name_2, sep=\"\\t\")\n",
    "my_data_frame2"
   ]
  },
  {
   "cell_type": "code",
   "execution_count": 139,
   "metadata": {},
   "outputs": [
    {
     "data": {
      "text/plain": [
       "test_1     0.295177\n",
       "test_2     0.327116\n",
       "test_3     0.264667\n",
       "test_4     0.264667\n",
       "test_5     0.236616\n",
       "test_6     0.192117\n",
       "test_7     0.272101\n",
       "test_8     0.312667\n",
       "test_9     0.263667\n",
       "test_10    0.302833\n",
       "test_11    0.298000\n",
       "test_12    0.323000\n",
       "dtype: float64"
      ]
     },
     "execution_count": 139,
     "metadata": {},
     "output_type": "execute_result"
    }
   ],
   "source": [
    "#Accuracy average per test:\n",
    "my_data_frame2.mean()"
   ]
  },
  {
   "cell_type": "code",
   "execution_count": 140,
   "metadata": {},
   "outputs": [
    {
     "data": {
      "text/plain": [
       "test_1     0.000000\n",
       "test_2     0.007224\n",
       "test_3     0.059416\n",
       "test_4     0.059416\n",
       "test_5     0.012627\n",
       "test_6     0.035388\n",
       "test_7     0.015187\n",
       "test_8     0.019138\n",
       "test_9     0.037697\n",
       "test_10    0.017893\n",
       "test_11    0.000000\n",
       "test_12    0.000000\n",
       "dtype: float64"
      ]
     },
     "execution_count": 140,
     "metadata": {},
     "output_type": "execute_result"
    }
   ],
   "source": [
    "#Accuracy standard deviation per column:\n",
    "my_data_frame2.std()"
   ]
  },
  {
   "cell_type": "code",
   "execution_count": 141,
   "metadata": {},
   "outputs": [
    {
     "data": {
      "text/plain": [
       "test_2     0.327116\n",
       "test_12    0.323000\n",
       "test_8     0.312667\n",
       "test_10    0.302833\n",
       "test_11    0.298000\n",
       "test_1     0.295177\n",
       "test_7     0.272101\n",
       "test_4     0.264667\n",
       "test_3     0.264667\n",
       "test_9     0.263667\n",
       "test_5     0.236616\n",
       "test_6     0.192117\n",
       "dtype: float64"
      ]
     },
     "execution_count": 141,
     "metadata": {},
     "output_type": "execute_result"
    }
   ],
   "source": [
    "#Most accurate method:\n",
    "my_data_frame2.mean().sort_values(ascending=False)\n",
    "# The most accurate test is test_2 with 0.327116"
   ]
  },
  {
   "cell_type": "code",
   "execution_count": 142,
   "metadata": {},
   "outputs": [
    {
     "data": {
      "text/plain": [
       "[Text(0, 0.5, 'Test'), Text(0.5, 0, 'Accuracy')]"
      ]
     },
     "execution_count": 142,
     "metadata": {},
     "output_type": "execute_result"
    },
    {
     "data": {
      "image/png": "[encoded data removed]",
      "text/plain": [
       "<Figure size 432x288 with 1 Axes>"
      ]
     },
     "metadata": {
      "needs_background": "light"
     },
     "output_type": "display_data"
    }
   ],
   "source": [
    "ax= my_data_frame2.mean().sort_values(ascending=False).plot.barh (x='Tests', y= 'Accuracy', color= \"red\", title= \"Test Accuracy\", xerr= my_data_frame2.std())\n",
    "ax.set(xlabel=\"Accuracy\", ylabel=\"Test\")"
   ]
  },
  {
   "cell_type": "code",
   "execution_count": 143,
   "metadata": {},
   "outputs": [
    {
     "data": {
      "text/plain": [
       "test_1      6.0\n",
       "test_2      1.0\n",
       "test_3      8.5\n",
       "test_4      8.5\n",
       "test_5     11.0\n",
       "test_6     12.0\n",
       "test_7      7.0\n",
       "test_8      3.0\n",
       "test_9     10.0\n",
       "test_10     4.0\n",
       "test_11     5.0\n",
       "test_12     2.0\n",
       "dtype: float64"
      ]
     },
     "execution_count": 143,
     "metadata": {},
     "output_type": "execute_result"
    }
   ],
   "source": [
    "#Average rank for accuracy:\n",
    "my_data_frame2.mean().rank(ascending=False)"
   ]
  },
  {
   "cell_type": "code",
   "execution_count": 144,
   "metadata": {},
   "outputs": [],
   "source": [
    "#Time file\n",
    "my_input_file_name= \"/mnt/stsi/stsi5/raqueld/imputator/optuna_phased_pipeline/runtimes.txt\""
   ]
  },
  {
   "cell_type": "code",
   "execution_count": 145,
   "metadata": {},
   "outputs": [
    {
     "data": {
      "text/html": [
       "<div>\n",
       "<style scoped>\n",
       "    .dataframe tbody tr th:only-of-type {\n",
       "        vertical-align: middle;\n",
       "    }\n",
       "\n",
       "    .dataframe tbody tr th {\n",
       "        vertical-align: top;\n",
       "    }\n",
       "\n",
       "    .dataframe thead th {\n",
       "        text-align: right;\n",
       "    }\n",
       "</style>\n",
       "<table border=\"1\" class=\"dataframe\">\n",
       "  <thead>\n",
       "    <tr style=\"text-align: right;\">\n",
       "      <th></th>\n",
       "      <th>test_1</th>\n",
       "      <th>test_2</th>\n",
       "      <th>test_3</th>\n",
       "      <th>test_4</th>\n",
       "      <th>test_5</th>\n",
       "      <th>test_6</th>\n",
       "      <th>test_7</th>\n",
       "      <th>test_8</th>\n",
       "      <th>test_9</th>\n",
       "      <th>test_10</th>\n",
       "      <th>test_11</th>\n",
       "      <th>test_12</th>\n",
       "    </tr>\n",
       "  </thead>\n",
       "  <tbody>\n",
       "    <tr>\n",
       "      <th>0</th>\n",
       "      <td>192635.8326</td>\n",
       "      <td>93677.74727</td>\n",
       "      <td>75680.46918</td>\n",
       "      <td>78270.56606</td>\n",
       "      <td>69345.55835</td>\n",
       "      <td>85013.58935</td>\n",
       "      <td>91946.11081</td>\n",
       "      <td>160585.12310</td>\n",
       "      <td>65643.07</td>\n",
       "      <td>89801.45926</td>\n",
       "      <td>60070.64347</td>\n",
       "      <td>79451.60883</td>\n",
       "    </tr>\n",
       "    <tr>\n",
       "      <th>1</th>\n",
       "      <td>171669.5646</td>\n",
       "      <td>93412.74666</td>\n",
       "      <td>95673.19462</td>\n",
       "      <td>75725.80524</td>\n",
       "      <td>60543.55250</td>\n",
       "      <td>113199.77610</td>\n",
       "      <td>67951.66609</td>\n",
       "      <td>80432.73106</td>\n",
       "      <td>66090.50</td>\n",
       "      <td>90459.11176</td>\n",
       "      <td>52030.97393</td>\n",
       "      <td>64246.59112</td>\n",
       "    </tr>\n",
       "    <tr>\n",
       "      <th>2</th>\n",
       "      <td>219414.0977</td>\n",
       "      <td>86510.45451</td>\n",
       "      <td>76083.73446</td>\n",
       "      <td>88232.83799</td>\n",
       "      <td>65547.21625</td>\n",
       "      <td>164551.29720</td>\n",
       "      <td>83244.35343</td>\n",
       "      <td>73888.85436</td>\n",
       "      <td>68698.71</td>\n",
       "      <td>90721.38508</td>\n",
       "      <td>76418.18604</td>\n",
       "      <td>NaN</td>\n",
       "    </tr>\n",
       "    <tr>\n",
       "      <th>3</th>\n",
       "      <td>NaN</td>\n",
       "      <td>76009.83462</td>\n",
       "      <td>NaN</td>\n",
       "      <td>NaN</td>\n",
       "      <td>68750.92264</td>\n",
       "      <td>149149.51120</td>\n",
       "      <td>57183.74511</td>\n",
       "      <td>68585.69940</td>\n",
       "      <td>40738.81</td>\n",
       "      <td>89881.84607</td>\n",
       "      <td>65537.13849</td>\n",
       "      <td>NaN</td>\n",
       "    </tr>\n",
       "    <tr>\n",
       "      <th>4</th>\n",
       "      <td>NaN</td>\n",
       "      <td>72412.62620</td>\n",
       "      <td>NaN</td>\n",
       "      <td>NaN</td>\n",
       "      <td>68998.85348</td>\n",
       "      <td>NaN</td>\n",
       "      <td>59620.12195</td>\n",
       "      <td>42190.63506</td>\n",
       "      <td>50552.17</td>\n",
       "      <td>93475.47880</td>\n",
       "      <td>82570.48835</td>\n",
       "      <td>NaN</td>\n",
       "    </tr>\n",
       "    <tr>\n",
       "      <th>5</th>\n",
       "      <td>NaN</td>\n",
       "      <td>108538.61000</td>\n",
       "      <td>NaN</td>\n",
       "      <td>NaN</td>\n",
       "      <td>63783.93818</td>\n",
       "      <td>NaN</td>\n",
       "      <td>68234.67167</td>\n",
       "      <td>39146.67521</td>\n",
       "      <td>70582.01</td>\n",
       "      <td>80433.49772</td>\n",
       "      <td>87355.94551</td>\n",
       "      <td>NaN</td>\n",
       "    </tr>\n",
       "  </tbody>\n",
       "</table>\n",
       "</div>"
      ],
      "text/plain": [
       "        test_1        test_2       test_3       test_4       test_5  \\\n",
       "0  192635.8326   93677.74727  75680.46918  78270.56606  69345.55835   \n",
       "1  171669.5646   93412.74666  95673.19462  75725.80524  60543.55250   \n",
       "2  219414.0977   86510.45451  76083.73446  88232.83799  65547.21625   \n",
       "3          NaN   76009.83462          NaN          NaN  68750.92264   \n",
       "4          NaN   72412.62620          NaN          NaN  68998.85348   \n",
       "5          NaN  108538.61000          NaN          NaN  63783.93818   \n",
       "\n",
       "         test_6       test_7        test_8    test_9      test_10  \\\n",
       "0   85013.58935  91946.11081  160585.12310  65643.07  89801.45926   \n",
       "1  113199.77610  67951.66609   80432.73106  66090.50  90459.11176   \n",
       "2  164551.29720  83244.35343   73888.85436  68698.71  90721.38508   \n",
       "3  149149.51120  57183.74511   68585.69940  40738.81  89881.84607   \n",
       "4           NaN  59620.12195   42190.63506  50552.17  93475.47880   \n",
       "5           NaN  68234.67167   39146.67521  70582.01  80433.49772   \n",
       "\n",
       "       test_11      test_12  \n",
       "0  60070.64347  79451.60883  \n",
       "1  52030.97393  64246.59112  \n",
       "2  76418.18604          NaN  \n",
       "3  65537.13849          NaN  \n",
       "4  82570.48835          NaN  \n",
       "5  87355.94551          NaN  "
      ]
     },
     "execution_count": 145,
     "metadata": {},
     "output_type": "execute_result"
    }
   ],
   "source": [
    "my_data_frame = pd.read_csv(my_input_file_name, sep=\"\\t\")\n",
    "my_data_frame"
   ]
  },
  {
   "cell_type": "code",
   "execution_count": 146,
   "metadata": {},
   "outputs": [
    {
     "data": {
      "text/plain": [
       "test_1     194573.164967\n",
       "test_2      88427.003210\n",
       "test_3      82479.132753\n",
       "test_4      80743.069763\n",
       "test_5      66161.673567\n",
       "test_6     127978.543462\n",
       "test_7      71363.444843\n",
       "test_8      77471.619698\n",
       "test_9      60384.211667\n",
       "test_10     89128.796448\n",
       "test_11     70663.895965\n",
       "test_12     71849.099975\n",
       "dtype: float64"
      ]
     },
     "execution_count": 146,
     "metadata": {},
     "output_type": "execute_result"
    }
   ],
   "source": [
    "#Time average per column:\n",
    "my_data_frame.mean()"
   ]
  },
  {
   "cell_type": "code",
   "execution_count": 147,
   "metadata": {},
   "outputs": [
    {
     "data": {
      "text/plain": [
       "test_9      60384.211667\n",
       "test_5      66161.673567\n",
       "test_11     70663.895965\n",
       "test_7      71363.444843\n",
       "test_12     71849.099975\n",
       "test_8      77471.619698\n",
       "test_4      80743.069763\n",
       "test_3      82479.132753\n",
       "test_2      88427.003210\n",
       "test_10     89128.796448\n",
       "test_6     127978.543462\n",
       "test_1     194573.164967\n",
       "dtype: float64"
      ]
     },
     "execution_count": 147,
     "metadata": {},
     "output_type": "execute_result"
    }
   ],
   "source": [
    "#Fastest method:\n",
    "my_data_frame.mean().sort_values()\n",
    "# The fastest test is test_9 with 60384.211667 seconds"
   ]
  },
  {
   "cell_type": "code",
   "execution_count": 148,
   "metadata": {},
   "outputs": [
    {
     "data": {
      "text/plain": [
       "[Text(0, 0.5, 'Test'), Text(0.5, 0, 'Time (seconds)')]"
      ]
     },
     "execution_count": 148,
     "metadata": {},
     "output_type": "execute_result"
    },
    {
     "data": {
      "image/png": "[encoded data removed]",
      "text/plain": [
       "<Figure size 432x288 with 1 Axes>"
      ]
     },
     "metadata": {
      "needs_background": "light"
     },
     "output_type": "display_data"
    }
   ],
   "source": [
    "ax= my_data_frame.mean().sort_values().plot.barh (x='Seconds', y= 'Tests', color= \"pink\", title= \"Test Time\", xerr= my_data_frame.std())\n",
    "ax.set(xlabel=\"Time (seconds)\", ylabel=\"Test\") "
   ]
  },
  {
   "cell_type": "code",
   "execution_count": 149,
   "metadata": {},
   "outputs": [
    {
     "data": {
      "text/plain": [
       "test_1     12.0\n",
       "test_2      9.0\n",
       "test_3      8.0\n",
       "test_4      7.0\n",
       "test_5      2.0\n",
       "test_6     11.0\n",
       "test_7      4.0\n",
       "test_8      6.0\n",
       "test_9      1.0\n",
       "test_10    10.0\n",
       "test_11     3.0\n",
       "test_12     5.0\n",
       "dtype: float64"
      ]
     },
     "execution_count": 149,
     "metadata": {},
     "output_type": "execute_result"
    }
   ],
   "source": [
    "#Average rank for time:\n",
    "my_data_frame.mean().rank()"
   ]
  },
  {
   "cell_type": "code",
   "execution_count": 150,
   "metadata": {},
   "outputs": [
    {
     "data": {
      "text/plain": [
       "test_1     23931.152349\n",
       "test_2     13200.183213\n",
       "test_3     11428.171644\n",
       "test_4      6609.948788\n",
       "test_5      3535.120666\n",
       "test_6     35824.458300\n",
       "test_7     13602.948946\n",
       "test_8     44095.277893\n",
       "test_9     11966.237010\n",
       "test_10     4468.277158\n",
       "test_11    13705.398489\n",
       "test_12    10751.571131\n",
       "dtype: float64"
      ]
     },
     "execution_count": 150,
     "metadata": {},
     "output_type": "execute_result"
    }
   ],
   "source": [
    "#Time standard deviation per column:\n",
    "my_data_frame.std()"
   ]
  },
  {
   "cell_type": "code",
   "execution_count": 151,
   "metadata": {},
   "outputs": [
    {
     "data": {
      "text/plain": [
       "test_1      9.00\n",
       "test_2      5.00\n",
       "test_3      8.25\n",
       "test_4      7.75\n",
       "test_5      6.50\n",
       "test_6     11.50\n",
       "test_7      5.50\n",
       "test_8      4.50\n",
       "test_9      5.50\n",
       "test_10     7.00\n",
       "test_11     4.00\n",
       "test_12     3.50\n",
       "dtype: float64"
      ]
     },
     "execution_count": 151,
     "metadata": {},
     "output_type": "execute_result"
    }
   ],
   "source": [
    "#Best test overall: C+D/2\n",
    "(my_data_frame.mean().rank() + my_data_frame2.mean().rank(ascending=False)) / 2"
   ]
  },
  {
   "cell_type": "code",
   "execution_count": 152,
   "metadata": {},
   "outputs": [
    {
     "data": {
      "text/plain": [
       "test_12     3.50\n",
       "test_11     4.00\n",
       "test_8      4.50\n",
       "test_2      5.00\n",
       "test_7      5.50\n",
       "test_9      5.50\n",
       "test_5      6.50\n",
       "test_10     7.00\n",
       "test_4      7.75\n",
       "test_3      8.25\n",
       "test_1      9.00\n",
       "test_6     11.50\n",
       "dtype: float64"
      ]
     },
     "execution_count": 152,
     "metadata": {},
     "output_type": "execute_result"
    }
   ],
   "source": [
    "#The best test overall is test_12\n",
    "((my_data_frame.mean().rank() + my_data_frame2.mean().rank(ascending=False)) / 2).sort_values()"
   ]
  },
  {
   "cell_type": "code",
   "execution_count": null,
   "metadata": {},
   "outputs": [],
   "source": []
  },
  {
   "cell_type": "code",
   "execution_count": null,
   "metadata": {},
   "outputs": [],
   "source": []
  }
 ],
 "metadata": {
  "kernelspec": {
   "display_name": "Python 3",
   "language": "python",
   "name": "python3"
  },
  "language_info": {
   "codemirror_mode": {
    "name": "ipython",
    "version": 3
   },
   "file_extension": ".py",
   "mimetype": "text/x-python",
   "name": "python",
   "nbconvert_exporter": "python",
   "pygments_lexer": "ipython3",
   "version": "3.6.3"
  }
 },
 "nbformat": 4,
 "nbformat_minor": 4
}
